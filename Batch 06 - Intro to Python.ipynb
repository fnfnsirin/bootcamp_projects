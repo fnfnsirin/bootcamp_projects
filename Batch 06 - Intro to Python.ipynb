{
 "cells":[
  {
   "cell_type":"markdown",
   "source":[
    "# Sheet"
   ],
   "attachments":{
    
   },
   "metadata":{
    "datalore":{
     "node_id":"Sheet",
     "type":"MD",
     "hide_input_from_viewers":false,
     "hide_output_from_viewers":false,
     "sheet_delimiter":true
    }
   }
  },
  {
   "cell_type":"markdown",
   "source":[
    "# Intro to Python Programming"
   ],
   "attachments":{
    
   },
   "metadata":{
    "datalore":{
     "node_id":"XVgDh0N6hBUP458XTQvjkJ",
     "type":"MD",
     "hide_input_from_viewers":true,
     "hide_output_from_viewers":true,
     "report_properties":{
      
     }
    }
   }
  },
  {
   "cell_type":"code",
   "source":[
    "print(\"hello\")"
   ],
   "execution_count":1,
   "outputs":[
    {
     "name":"stdout",
     "text":[
      "hello\n"
     ],
     "output_type":"stream"
    }
   ],
   "metadata":{
    "datalore":{
     "node_id":"4Hg1ZuAcpixrsweHKcDkE7",
     "type":"CODE",
     "hide_input_from_viewers":true,
     "hide_output_from_viewers":true,
     "report_properties":{
      
     }
    }
   }
  },
  {
   "cell_type":"code",
   "source":[
    "print(\"floor division (int) = \",10\/\/3,\"\\n               float = \",10\/3)"
   ],
   "execution_count":9,
   "outputs":[
    {
     "name":"stdout",
     "text":[
      "floor division (int) =  3 \n",
      "               float =  3.3333333333333335\n"
     ],
     "output_type":"stream"
    }
   ],
   "metadata":{
    "datalore":{
     "node_id":"FvUjjbwE2MqD1de4mzUYTS",
     "type":"CODE",
     "hide_input_from_viewers":true,
     "hide_output_from_viewers":true,
     "report_properties":{
      
     }
    }
   }
  },
  {
   "cell_type":"markdown",
   "source":[
    "# Core concept\n",
    "* variable\n",
    "* data types\n",
    "* data structures\n",
    "* function\n",
    "* control flow"
   ],
   "attachments":{
    
   },
   "metadata":{
    "datalore":{
     "node_id":"mcih8S8zdLpGTZsxNbuM6V",
     "type":"MD",
     "hide_input_from_viewers":true,
     "hide_output_from_viewers":true,
     "report_properties":{
      
     }
    }
   }
  },
  {
   "cell_type":"code",
   "source":[
    "#variable\n",
    "my_name = \"Fern\""
   ],
   "execution_count":10,
   "outputs":[
    
   ],
   "metadata":{
    "datalore":{
     "node_id":"AWiJBcpwVEsv4DEyFXeZGP",
     "type":"CODE",
     "hide_input_from_viewers":true,
     "hide_output_from_viewers":true,
     "report_properties":{
      
     }
    }
   }
  },
  {
   "cell_type":"code",
   "source":[
    "#del var\n",
    "del my_name"
   ],
   "execution_count":11,
   "outputs":[
    
   ],
   "metadata":{
    "datalore":{
     "node_id":"N3ASK512smp0UARxtvidFN",
     "type":"CODE",
     "hide_input_from_viewers":true,
     "hide_output_from_viewers":true,
     "report_properties":{
      
     }
    }
   }
  },
  {
   "cell_type":"code",
   "source":[
    "#Data types\n",
    "print(type(\"Fern\"),type(10),type(3.33),type(True))"
   ],
   "execution_count":15,
   "outputs":[
    {
     "name":"stdout",
     "text":[
      "<class 'str'> <class 'int'> <class 'float'> <class 'bool'>\n"
     ],
     "output_type":"stream"
    }
   ],
   "metadata":{
    "datalore":{
     "node_id":"ezPXIutI8Xjp9ENuXrtzx2",
     "type":"CODE",
     "hide_input_from_viewers":true,
     "hide_output_from_viewers":true,
     "report_properties":{
      
     }
    }
   }
  },
  {
   "cell_type":"code",
   "source":[
    "#convert str to int\n",
    "x = \"100\"\n",
    "x = int(x)\n",
    "print(x,type(x))"
   ],
   "execution_count":19,
   "outputs":[
    {
     "name":"stdout",
     "text":[
      "100 <class 'int'>\n"
     ],
     "output_type":"stream"
    }
   ],
   "metadata":{
    "datalore":{
     "node_id":"h4arDlIWfruebBlZSZ0P0N",
     "type":"CODE",
     "hide_input_from_viewers":true,
     "hide_output_from_viewers":true,
     "report_properties":{
      
     }
    }
   }
  },
  {
   "cell_type":"code",
   "source":[
    "x_str = str(x)\n",
    "print(type(x_str))"
   ],
   "execution_count":23,
   "outputs":[
    {
     "name":"stdout",
     "text":[
      "<class 'str'>\n"
     ],
     "output_type":"stream"
    }
   ],
   "metadata":{
    "datalore":{
     "node_id":"zbxykooN933ZpBRrIAhXFk",
     "type":"CODE",
     "hide_input_from_viewers":true,
     "hide_output_from_viewers":true,
     "report_properties":{
      
     }
    }
   }
  },
  {
   "cell_type":"markdown",
   "source":[
    "## Type Hint"
   ],
   "attachments":{
    
   },
   "metadata":{
    "datalore":{
     "node_id":"CrAGY8lwDzgihwn5qKUSAC",
     "type":"MD",
     "hide_input_from_viewers":true,
     "hide_output_from_viewers":true,
     "report_properties":{
      
     }
    }
   }
  },
  {
   "cell_type":"code",
   "source":[
    "name: str = \"fern\"\n",
    "print(name)"
   ],
   "execution_count":25,
   "outputs":[
    {
     "name":"stdout",
     "text":[
      "fern\n"
     ],
     "output_type":"stream"
    }
   ],
   "metadata":{
    "datalore":{
     "node_id":"09xe1WxMTazhBsdOojIvHC",
     "type":"CODE",
     "hide_input_from_viewers":true,
     "hide_output_from_viewers":true,
     "report_properties":{
      
     }
    }
   }
  },
  {
   "cell_type":"code",
   "source":[
    "age: int = 25\n",
    "print(age)"
   ],
   "execution_count":26,
   "outputs":[
    {
     "name":"stdout",
     "text":[
      "25\n"
     ],
     "output_type":"stream"
    }
   ],
   "metadata":{
    "datalore":{
     "node_id":"NdbgulMl7UOxdPvcP032Qq",
     "type":"CODE",
     "hide_input_from_viewers":true,
     "hide_output_from_viewers":true,
     "report_properties":{
      
     }
    }
   }
  },
  {
   "cell_type":"code",
   "source":[
    "gpa: float = 3.54\n",
    "print(gpa)"
   ],
   "execution_count":28,
   "outputs":[
    {
     "name":"stdout",
     "text":[
      "3.54\n"
     ],
     "output_type":"stream"
    }
   ],
   "metadata":{
    "datalore":{
     "node_id":"p3kWwDdKmMdTZeZDE1CUHr",
     "type":"CODE",
     "hide_input_from_viewers":true,
     "hide_output_from_viewers":true,
     "report_properties":{
      
     }
    }
   }
  },
  {
   "cell_type":"code",
   "source":[
    "catlover: bool = True\n",
    "print(catlover)"
   ],
   "execution_count":29,
   "outputs":[
    {
     "name":"stdout",
     "text":[
      "True\n"
     ],
     "output_type":"stream"
    }
   ],
   "metadata":{
    "datalore":{
     "node_id":"EjLlx2fa2GIDTQZ60D0lNp",
     "type":"CODE",
     "hide_input_from_viewers":true,
     "hide_output_from_viewers":true,
     "report_properties":{
      
     }
    }
   }
  },
  {
   "cell_type":"markdown",
   "source":[
    "## String Method\n",
    "Func ที่ถูกสร้างขึ้นมาสำหรับ class\/type\/object หนึ่งๆ"
   ],
   "attachments":{
    
   },
   "metadata":{
    "datalore":{
     "node_id":"ECdKw8Hb2qIbkKHRnqSt5w",
     "type":"MD",
     "hide_input_from_viewers":true,
     "hide_output_from_viewers":true,
     "report_properties":{
      
     }
    }
   }
  },
  {
   "cell_type":"code",
   "source":[
    "text = \"my name is fern\""
   ],
   "execution_count":31,
   "outputs":[
    
   ],
   "metadata":{
    "datalore":{
     "node_id":"whXJEFuHo4OBAOTdD0mZDr",
     "type":"CODE",
     "hide_input_from_viewers":true,
     "hide_output_from_viewers":true,
     "report_properties":{
      
     }
    }
   }
  },
  {
   "cell_type":"code",
   "source":[
    "text = text.upper()\n",
    "text = text.lower()\n",
    "text"
   ],
   "execution_count":37,
   "outputs":[
    {
     "data":{
      "text\/plain":[
       "'my name is fern'"
      ]
     },
     "metadata":{
      
     },
     "output_type":"display_data"
    }
   ],
   "metadata":{
    "datalore":{
     "node_id":"GxOzsXPtgRWuzjQrosDcIC",
     "type":"CODE",
     "hide_input_from_viewers":true,
     "hide_output_from_viewers":true,
     "report_properties":{
      
     }
    }
   }
  },
  {
   "cell_type":"code",
   "source":[
    "text = text.replace('fern','dodo')\n",
    "print(text)"
   ],
   "execution_count":39,
   "outputs":[
    {
     "name":"stdout",
     "text":[
      "my name is dodo\n"
     ],
     "output_type":"stream"
    }
   ],
   "metadata":{
    "datalore":{
     "node_id":"j9CTD2oCYie2rWOpUa5JJp",
     "type":"CODE",
     "hide_input_from_viewers":true,
     "hide_output_from_viewers":true,
     "report_properties":{
      
     }
    }
   }
  },
  {
   "cell_type":"code",
   "source":[
    "#generic func, str method\n",
    "len(text)-text.count(\" \")"
   ],
   "execution_count":45,
   "outputs":[
    {
     "data":{
      "text\/plain":[
       "12"
      ]
     },
     "metadata":{
      
     },
     "output_type":"display_data"
    }
   ],
   "metadata":{
    "datalore":{
     "node_id":"T7NUh7XAfG49NFpz4zYyYQ",
     "type":"CODE",
     "hide_input_from_viewers":true,
     "hide_output_from_viewers":true,
     "report_properties":{
      
     }
    }
   }
  },
  {
   "cell_type":"code",
   "source":[
    "#Capitalize first word to upper\n",
    "text.title()"
   ],
   "execution_count":46,
   "outputs":[
    {
     "data":{
      "text\/plain":[
       "'My Name Is Dodo'"
      ]
     },
     "metadata":{
      
     },
     "output_type":"display_data"
    }
   ],
   "metadata":{
    "datalore":{
     "node_id":"0IO4Ed11M6ivzk7yrI8NhA",
     "type":"CODE",
     "hide_input_from_viewers":true,
     "hide_output_from_viewers":true,
     "report_properties":{
      
     }
    }
   }
  },
  {
   "cell_type":"code",
   "source":[
    "#list (vector in R)\n",
    "list_of_words = text.split(\" \")\n",
    "list_of_words"
   ],
   "execution_count":48,
   "outputs":[
    {
     "data":{
      "text\/plain":[
       "['my', 'name', 'is', 'dodo']"
      ]
     },
     "metadata":{
      
     },
     "output_type":"display_data"
    }
   ],
   "metadata":{
    "datalore":{
     "node_id":"Li9D2XfIJX1to1phf6AbA6",
     "type":"CODE",
     "hide_input_from_viewers":true,
     "hide_output_from_viewers":true,
     "report_properties":{
      
     }
    }
   }
  },
  {
   "cell_type":"code",
   "source":[
    "#str.join()\n",
    "sentence =\" \".join(list_of_words)\n",
    "sentence"
   ],
   "execution_count":50,
   "outputs":[
    {
     "data":{
      "text\/plain":[
       "'my name is dodo'"
      ]
     },
     "metadata":{
      
     },
     "output_type":"display_data"
    }
   ],
   "metadata":{
    "datalore":{
     "node_id":"6rXes21i0fmLzV6s5RNeii",
     "type":"CODE",
     "hide_input_from_viewers":true,
     "hide_output_from_viewers":true,
     "report_properties":{
      
     }
    }
   }
  },
  {
   "cell_type":"code",
   "source":[
    "#slicing information\n",
    "word = \"hello world\""
   ],
   "execution_count":51,
   "outputs":[
    
   ],
   "metadata":{
    "datalore":{
     "node_id":"jgox8wN9f7mT2EADWwXMab",
     "type":"CODE",
     "hide_input_from_viewers":true,
     "hide_output_from_viewers":true,
     "report_properties":{
      
     }
    }
   }
  },
  {
   "cell_type":"code",
   "source":[
    "#index start 0\n",
    "word[0]    #h\n",
    "word[-1]   #d\n",
    "word[0:4]  #hell\n",
    "word[6:]   #world"
   ],
   "execution_count":58,
   "outputs":[
    {
     "data":{
      "text\/plain":[
       "'world'"
      ]
     },
     "metadata":{
      
     },
     "output_type":"display_data"
    }
   ],
   "metadata":{
    "datalore":{
     "node_id":"t8Gtiaby3yoJxEsd99Hpet",
     "type":"CODE",
     "hide_input_from_viewers":true,
     "hide_output_from_viewers":true,
     "report_properties":{
      
     }
    }
   }
  },
  {
   "cell_type":"code",
   "source":[
    "word.split(\" \")[1]"
   ],
   "execution_count":60,
   "outputs":[
    {
     "data":{
      "text\/plain":[
       "'world'"
      ]
     },
     "metadata":{
      
     },
     "output_type":"display_data"
    }
   ],
   "metadata":{
    "datalore":{
     "node_id":"huReycE26ZKvxmTsWnbtIA",
     "type":"CODE",
     "hide_input_from_viewers":true,
     "hide_output_from_viewers":true,
     "report_properties":{
      
     }
    }
   }
  },
  {
   "cell_type":"code",
   "source":[
    "programming = \"Python\""
   ],
   "execution_count":61,
   "outputs":[
    
   ],
   "metadata":{
    "datalore":{
     "node_id":"pqlifHx2jORpE7HIsHw57Y",
     "type":"CODE",
     "hide_input_from_viewers":true,
     "hide_output_from_viewers":true,
     "report_properties":{
      
     }
    }
   }
  },
  {
   "cell_type":"code",
   "source":[
    "#String Immutable Objects ประกาศแล้ว เปลี่ยนค่าไม่ได้\n",
    "cython = \"C\"+programming[1:]\n",
    "cython"
   ],
   "execution_count":64,
   "outputs":[
    {
     "data":{
      "text\/plain":[
       "'Cython'"
      ]
     },
     "metadata":{
      
     },
     "output_type":"display_data"
    }
   ],
   "metadata":{
    "datalore":{
     "node_id":"NQc2RCvTlrZ6hKMugzhAIE",
     "type":"CODE",
     "hide_input_from_viewers":true,
     "hide_output_from_viewers":true,
     "report_properties":{
      
     }
    }
   }
  },
  {
   "cell_type":"markdown",
   "source":[
    "## Data Structure\n",
    "* List `[]`\n",
    "* Tuple `()`\n",
    "* Dictionary `{key: value}`\n",
    "* Set `{}`"
   ],
   "attachments":{
    
   },
   "metadata":{
    "datalore":{
     "node_id":"Gg02L9kawID2rHnhKqFsdJ",
     "type":"MD",
     "hide_input_from_viewers":true,
     "hide_output_from_viewers":true,
     "report_properties":{
      
     }
    }
   }
  },
  {
   "cell_type":"code",
   "source":[
    "#list Mutable can change\n",
    "shopping_items = ['egg','milk','bread','noodle']\n",
    "shopping_items[0] = 'banana'\n",
    "shopping_items"
   ],
   "execution_count":68,
   "outputs":[
    {
     "data":{
      "text\/plain":[
       "['banana', 'milk', 'bread', 'noodle']"
      ]
     },
     "metadata":{
      
     },
     "output_type":"display_data"
    }
   ],
   "metadata":{
    "datalore":{
     "node_id":"cB0Bo3YzOdSS1JL1o3Ejsf",
     "type":"CODE",
     "hide_input_from_viewers":true,
     "hide_output_from_viewers":true,
     "report_properties":{
      
     }
    }
   }
  },
  {
   "cell_type":"code",
   "source":[
    "#ADD new items in right of LIST\n",
    "shopping_items.append(\"jam\")\n",
    "print(shopping_items)\n",
    "shopping_items.append(\"chocolate\")\n",
    "print(shopping_items)"
   ],
   "execution_count":70,
   "outputs":[
    {
     "name":"stdout",
     "text":[
      "['banana', 'milk', 'bread', 'noodle', 'jam', 'jam']\n",
      "['banana', 'milk', 'bread', 'noodle', 'jam', 'jam', 'chocolate']\n"
     ],
     "output_type":"stream"
    }
   ],
   "metadata":{
    "datalore":{
     "node_id":"D9IAzKkn5YT4Tu4jwg0NTH",
     "type":"CODE",
     "hide_input_from_viewers":true,
     "hide_output_from_viewers":true,
     "report_properties":{
      
     }
    }
   }
  },
  {
   "cell_type":"code",
   "source":[
    "#.pop() del items in LIST\n",
    "shopping_items.pop(4)"
   ],
   "execution_count":72,
   "outputs":[
    {
     "data":{
      "text\/plain":[
       "'jam'"
      ]
     },
     "metadata":{
      
     },
     "output_type":"display_data"
    }
   ],
   "metadata":{
    "datalore":{
     "node_id":"7jq3ri3vImT8UBhrvruGmJ",
     "type":"CODE",
     "hide_input_from_viewers":true,
     "hide_output_from_viewers":true,
     "report_properties":{
      
     }
    }
   }
  },
  {
   "cell_type":"code",
   "source":[
    "shopping_items"
   ],
   "execution_count":73,
   "outputs":[
    {
     "data":{
      "text\/plain":[
       "['banana', 'milk', 'bread', 'noodle', 'jam', 'chocolate']"
      ]
     },
     "metadata":{
      
     },
     "output_type":"display_data"
    }
   ],
   "metadata":{
    "datalore":{
     "node_id":"TAsYsOtAVvfYEf4P9qGyXq",
     "type":"CODE",
     "hide_input_from_viewers":true,
     "hide_output_from_viewers":true,
     "report_properties":{
      
     }
    }
   }
  },
  {
   "cell_type":"code",
   "source":[
    "shopping_items.count('banana')"
   ],
   "execution_count":74,
   "outputs":[
    {
     "data":{
      "text\/plain":[
       "1"
      ]
     },
     "metadata":{
      
     },
     "output_type":"display_data"
    }
   ],
   "metadata":{
    "datalore":{
     "node_id":"te98p17XnRLavoQJcYrnnD",
     "type":"CODE",
     "hide_input_from_viewers":true,
     "hide_output_from_viewers":true,
     "report_properties":{
      
     }
    }
   }
  },
  {
   "cell_type":"code",
   "source":[
    "#list.copy() deep copy"
   ],
   "execution_count":null,
   "outputs":[
    
   ],
   "metadata":{
    "datalore":{
     "node_id":"yurQHjvVaTO5ypBFsyd6Xx",
     "type":"CODE",
     "hide_input_from_viewers":true,
     "hide_output_from_viewers":true,
     "report_properties":{
      
     }
    }
   }
  },
  {
   "cell_type":"code",
   "source":[
    "# list can contain anything\n",
    "students =[\n",
    "    ('toy',88),\n",
    "    ('mary',95),\n",
    "    ('john',90)\n",
    "]"
   ],
   "execution_count":75,
   "outputs":[
    
   ],
   "metadata":{
    "datalore":{
     "node_id":"mSa680R9xHRNzTouy6NZWN",
     "type":"CODE",
     "hide_input_from_viewers":true,
     "hide_output_from_viewers":true,
     "report_properties":{
      
     }
    }
   }
  },
  {
   "cell_type":"code",
   "source":[
    "students[0][1]"
   ],
   "execution_count":78,
   "outputs":[
    {
     "data":{
      "text\/plain":[
       "88"
      ]
     },
     "metadata":{
      
     },
     "output_type":"display_data"
    }
   ],
   "metadata":{
    "datalore":{
     "node_id":"R5Bv32mnWjF3SgS3qzh32L",
     "type":"CODE",
     "hide_input_from_viewers":true,
     "hide_output_from_viewers":true,
     "report_properties":{
      
     }
    }
   }
  },
  {
   "cell_type":"code",
   "source":[
    "x=[\n",
    "    [1,2,3],\n",
    "    [4,5,6],\n",
    "    [7,8,9]\n",
    "]"
   ],
   "execution_count":80,
   "outputs":[
    
   ],
   "metadata":{
    "datalore":{
     "node_id":"NpOzpMiHW4KmP2aexUMFqR",
     "type":"CODE",
     "hide_input_from_viewers":true,
     "hide_output_from_viewers":true,
     "report_properties":{
      
     }
    }
   }
  },
  {
   "cell_type":"code",
   "source":[
    "x[0][2]"
   ],
   "execution_count":82,
   "outputs":[
    {
     "data":{
      "text\/plain":[
       "3"
      ]
     },
     "metadata":{
      
     },
     "output_type":"display_data"
    }
   ],
   "metadata":{
    "datalore":{
     "node_id":"q46kCoMSlhNEImLPhr17Ro",
     "type":"CODE",
     "hide_input_from_viewers":true,
     "hide_output_from_viewers":true,
     "report_properties":{
      
     }
    }
   }
  },
  {
   "cell_type":"code",
   "source":[
    "#tuple => immutable object\n",
    "data = (1,2,3,\"toy\",\"data science\",True)\n",
    "type(data)"
   ],
   "execution_count":83,
   "outputs":[
    {
     "data":{
      "text\/plain":[
       "tuple"
      ]
     },
     "metadata":{
      
     },
     "output_type":"display_data"
    }
   ],
   "metadata":{
    "datalore":{
     "node_id":"o8IGqTA4OxEH3UUEUh4D3y",
     "type":"CODE",
     "hide_input_from_viewers":true,
     "hide_output_from_viewers":true,
     "report_properties":{
      
     }
    }
   }
  },
  {
   "cell_type":"code",
   "source":[
    "#cannot update value\n",
    "#data[3]=\"Anna\"\n",
    "#TypeError: 'tuple' object does not support item assignment"
   ],
   "execution_count":85,
   "outputs":[
    
   ],
   "metadata":{
    "datalore":{
     "node_id":"2afrzBO8dl3C2dTyNUWit1",
     "type":"CODE",
     "hide_input_from_viewers":true,
     "hide_output_from_viewers":true,
     "report_properties":{
      
     }
    }
   }
  },
  {
   "cell_type":"code",
   "source":[
    "#Dictionary refer to name_key MUTABLE\n",
    "customer = {\n",
    "    'first_name': 'kasidis',\n",
    "    'nick_name': 'toy',\n",
    "    \"age\": 34,\n",
    "    \"love_hamburger\": True,\n",
    "    \"fav_movies\": ['Thor','Dr.Strange']\n",
    "}"
   ],
   "execution_count":86,
   "outputs":[
    
   ],
   "metadata":{
    "datalore":{
     "node_id":"umvA0qDq79cVyZoMdSSsA6",
     "type":"CODE",
     "hide_input_from_viewers":true,
     "hide_output_from_viewers":true,
     "report_properties":{
      
     }
    }
   }
  },
  {
   "cell_type":"code",
   "source":[
    "customer['fav_movies'][0]"
   ],
   "execution_count":88,
   "outputs":[
    {
     "data":{
      "text\/plain":[
       "'Thor'"
      ]
     },
     "metadata":{
      
     },
     "output_type":"display_data"
    }
   ],
   "metadata":{
    "datalore":{
     "node_id":"mkY9ECCErTejPUTpRQ5RIq",
     "type":"CODE",
     "hide_input_from_viewers":true,
     "hide_output_from_viewers":true,
     "report_properties":{
      
     }
    }
   }
  },
  {
   "cell_type":"code",
   "source":[
    "customer[\"age\"] = 25"
   ],
   "execution_count":89,
   "outputs":[
    
   ],
   "metadata":{
    "datalore":{
     "node_id":"0CN7gzTnEVmTk92rUzNSty",
     "type":"CODE",
     "hide_input_from_viewers":true,
     "hide_output_from_viewers":true,
     "report_properties":{
      
     }
    }
   }
  },
  {
   "cell_type":"code",
   "source":[
    "customer"
   ],
   "execution_count":90,
   "outputs":[
    {
     "data":{
      "text\/plain":[
       "{'first_name': 'kasidis',\n",
       " 'nick_name': 'toy',\n",
       " 'age': 25,\n",
       " 'love_hamburger': True,\n",
       " 'fav_movies': ['Thor', 'Dr.Strange']}"
      ]
     },
     "metadata":{
      
     },
     "output_type":"display_data"
    }
   ],
   "metadata":{
    "datalore":{
     "node_id":"eqetYgsLmZVOpqsohEydcU",
     "type":"CODE",
     "hide_input_from_viewers":true,
     "hide_output_from_viewers":true,
     "report_properties":{
      
     }
    }
   }
  },
  {
   "cell_type":"code",
   "source":[
    "customer[\"fav_movies\"][0] = 'Thor Ragnarok'\n",
    "customer"
   ],
   "execution_count":91,
   "outputs":[
    {
     "data":{
      "text\/plain":[
       "{'first_name': 'kasidis',\n",
       " 'nick_name': 'toy',\n",
       " 'age': 25,\n",
       " 'love_hamburger': True,\n",
       " 'fav_movies': ['Thor Ragnarok', 'Dr.Strange']}"
      ]
     },
     "metadata":{
      
     },
     "output_type":"display_data"
    }
   ],
   "metadata":{
    "datalore":{
     "node_id":"C6FjFzbrW8NuYZUez5Jnpw",
     "type":"CODE",
     "hide_input_from_viewers":true,
     "hide_output_from_viewers":true,
     "report_properties":{
      
     }
    }
   }
  },
  {
   "cell_type":"code",
   "source":[
    "#new key in dic\n",
    "customer['city'] = 'London'\n",
    "customer"
   ],
   "execution_count":92,
   "outputs":[
    {
     "data":{
      "text\/plain":[
       "{'first_name': 'kasidis',\n",
       " 'nick_name': 'toy',\n",
       " 'age': 25,\n",
       " 'love_hamburger': True,\n",
       " 'fav_movies': ['Thor Ragnarok', 'Dr.Strange'],\n",
       " 'city': 'London'}"
      ]
     },
     "metadata":{
      
     },
     "output_type":"display_data"
    }
   ],
   "metadata":{
    "datalore":{
     "node_id":"2S0WpgWpRy46zaVOScm3HL",
     "type":"CODE",
     "hide_input_from_viewers":true,
     "hide_output_from_viewers":true,
     "report_properties":{
      
     }
    }
   }
  },
  {
   "cell_type":"code",
   "source":[
    "'city' in customer"
   ],
   "execution_count":93,
   "outputs":[
    {
     "data":{
      "text\/plain":[
       "True"
      ]
     },
     "metadata":{
      
     },
     "output_type":"display_data"
    }
   ],
   "metadata":{
    "datalore":{
     "node_id":"xx9EauANjN6fMnN0jGj4nv",
     "type":"CODE",
     "hide_input_from_viewers":true,
     "hide_output_from_viewers":true,
     "report_properties":{
      
     }
    }
   }
  },
  {
   "cell_type":"code",
   "source":[
    "'country' in customer"
   ],
   "execution_count":94,
   "outputs":[
    {
     "data":{
      "text\/plain":[
       "False"
      ]
     },
     "metadata":{
      
     },
     "output_type":"display_data"
    }
   ],
   "metadata":{
    "datalore":{
     "node_id":"1whbykZ2yF7ADR83tn0PKA",
     "type":"CODE",
     "hide_input_from_viewers":true,
     "hide_output_from_viewers":true,
     "report_properties":{
      
     }
    }
   }
  },
  {
   "cell_type":"code",
   "source":[
    "if 'country' not in customer:\n",
    "    customer['country'] = \"USA\""
   ],
   "execution_count":95,
   "outputs":[
    
   ],
   "metadata":{
    "datalore":{
     "node_id":"rE50F6St6olykqWOArKXKg",
     "type":"CODE",
     "hide_input_from_viewers":true,
     "hide_output_from_viewers":true,
     "report_properties":{
      
     }
    }
   }
  },
  {
   "cell_type":"code",
   "source":[
    "customer"
   ],
   "execution_count":96,
   "outputs":[
    {
     "data":{
      "text\/plain":[
       "{'first_name': 'kasidis',\n",
       " 'nick_name': 'toy',\n",
       " 'age': 25,\n",
       " 'love_hamburger': True,\n",
       " 'fav_movies': ['Thor Ragnarok', 'Dr.Strange'],\n",
       " 'city': 'London',\n",
       " 'country': 'USA'}"
      ]
     },
     "metadata":{
      
     },
     "output_type":"display_data"
    }
   ],
   "metadata":{
    "datalore":{
     "node_id":"FhZLWSMyn8iMp0WbeULTdi",
     "type":"CODE",
     "hide_input_from_viewers":true,
     "hide_output_from_viewers":true,
     "report_properties":{
      
     }
    }
   }
  },
  {
   "cell_type":"code",
   "source":[
    "#del key\n",
    "del customer['country']\n",
    "customer"
   ],
   "execution_count":97,
   "outputs":[
    {
     "data":{
      "text\/plain":[
       "{'first_name': 'kasidis',\n",
       " 'nick_name': 'toy',\n",
       " 'age': 25,\n",
       " 'love_hamburger': True,\n",
       " 'fav_movies': ['Thor Ragnarok', 'Dr.Strange'],\n",
       " 'city': 'London'}"
      ]
     },
     "metadata":{
      
     },
     "output_type":"display_data"
    }
   ],
   "metadata":{
    "datalore":{
     "node_id":"varf7bYRr7dQsn6lkyJFYX",
     "type":"CODE",
     "hide_input_from_viewers":true,
     "hide_output_from_viewers":true,
     "report_properties":{
      
     }
    }
   }
  },
  {
   "cell_type":"code",
   "source":[
    "#dic method\n",
    "type(customer)"
   ],
   "execution_count":98,
   "outputs":[
    {
     "data":{
      "text\/plain":[
       "dict"
      ]
     },
     "metadata":{
      
     },
     "output_type":"display_data"
    }
   ],
   "metadata":{
    "datalore":{
     "node_id":"9I4aizOZ1GlFUujOxOz1tH",
     "type":"CODE",
     "hide_input_from_viewers":true,
     "hide_output_from_viewers":true,
     "report_properties":{
      
     }
    }
   }
  },
  {
   "cell_type":"code",
   "source":[
    "list(customer.keys())"
   ],
   "execution_count":100,
   "outputs":[
    {
     "data":{
      "text\/plain":[
       "['first_name', 'nick_name', 'age', 'love_hamburger', 'fav_movies', 'city']"
      ]
     },
     "metadata":{
      
     },
     "output_type":"display_data"
    }
   ],
   "metadata":{
    "datalore":{
     "node_id":"U1ZE3Q1bB3Qdoh0oPsJwHY",
     "type":"CODE",
     "hide_input_from_viewers":true,
     "hide_output_from_viewers":true,
     "report_properties":{
      
     }
    }
   }
  },
  {
   "cell_type":"code",
   "source":[
    "list(customer.values())"
   ],
   "execution_count":101,
   "outputs":[
    {
     "data":{
      "text\/plain":[
       "['kasidis', 'toy', 25, True, ['Thor Ragnarok', 'Dr.Strange'], 'London']"
      ]
     },
     "metadata":{
      
     },
     "output_type":"display_data"
    }
   ],
   "metadata":{
    "datalore":{
     "node_id":"mtnST9jiOIY1GEBaZsCJnJ",
     "type":"CODE",
     "hide_input_from_viewers":true,
     "hide_output_from_viewers":true,
     "report_properties":{
      
     }
    }
   }
  },
  {
   "cell_type":"code",
   "source":[
    "list(customer.items()) #dic to list of tuple"
   ],
   "execution_count":104,
   "outputs":[
    {
     "data":{
      "text\/plain":[
       "[('first_name', 'kasidis'),\n",
       " ('nick_name', 'toy'),\n",
       " ('age', 25),\n",
       " ('love_hamburger', True),\n",
       " ('fav_movies', ['Thor Ragnarok', 'Dr.Strange']),\n",
       " ('city', 'London')]"
      ]
     },
     "metadata":{
      
     },
     "output_type":"display_data"
    }
   ],
   "metadata":{
    "datalore":{
     "node_id":"Hz6HAf4ZmDKiiLkNH5Ja4G",
     "type":"CODE",
     "hide_input_from_viewers":true,
     "hide_output_from_viewers":true,
     "report_properties":{
      
     }
    }
   }
  },
  {
   "cell_type":"code",
   "source":[
    "#set of unique value\n",
    "fruits = ['banana','banana','apple','apple','lemon']\n",
    "print(len(set(fruits)),set(fruits))"
   ],
   "execution_count":108,
   "outputs":[
    {
     "name":"stdout",
     "text":[
      "3 {'banana', 'lemon', 'apple'}\n"
     ],
     "output_type":"stream"
    }
   ],
   "metadata":{
    "datalore":{
     "node_id":"rWgDkaDb05EdCoycN5P1GJ",
     "type":"CODE",
     "hide_input_from_viewers":true,
     "hide_output_from_viewers":true,
     "report_properties":{
      
     }
    }
   }
  },
  {
   "cell_type":"code",
   "source":[
    "unique_fruits = set(fruits)\n",
    "unique_fruits.add(\"grape\")\n",
    "unique_fruits"
   ],
   "execution_count":111,
   "outputs":[
    {
     "data":{
      "text\/plain":[
       "{'apple', 'banana', 'grape', 'lemon'}"
      ]
     },
     "metadata":{
      
     },
     "output_type":"display_data"
    }
   ],
   "metadata":{
    "datalore":{
     "node_id":"HcLY3hortDHYlJNvGFBpDW",
     "type":"CODE",
     "hide_input_from_viewers":true,
     "hide_output_from_viewers":true,
     "report_properties":{
      
     }
    }
   }
  },
  {
   "cell_type":"code",
   "source":[
    "#intersect (duplicate of friend and you)\n",
    "fruits_friend = {'banana', 'orange', 'apple','durian'}\n",
    "fruits_friend.intersection(unique_fruits)"
   ],
   "execution_count":114,
   "outputs":[
    {
     "data":{
      "text\/plain":[
       "{'apple', 'banana'}"
      ]
     },
     "metadata":{
      
     },
     "output_type":"display_data"
    }
   ],
   "metadata":{
    "datalore":{
     "node_id":"drsCWX4vB9eprs5ppg2URa",
     "type":"CODE",
     "hide_input_from_viewers":true,
     "hide_output_from_viewers":true,
     "report_properties":{
      
     }
    }
   }
  },
  {
   "cell_type":"code",
   "source":[
    "fruits_friend.union(unique_fruits)"
   ],
   "execution_count":115,
   "outputs":[
    {
     "data":{
      "text\/plain":[
       "{'apple', 'banana', 'durian', 'grape', 'lemon', 'orange'}"
      ]
     },
     "metadata":{
      
     },
     "output_type":"display_data"
    }
   ],
   "metadata":{
    "datalore":{
     "node_id":"2muDiGyOgBqxBvrlFf1kdm",
     "type":"CODE",
     "hide_input_from_viewers":true,
     "hide_output_from_viewers":true,
     "report_properties":{
      
     }
    }
   }
  },
  {
   "cell_type":"code",
   "source":[
    "#f string template\n",
    "fav_language = 'R'\n",
    "template = f\"Hello my name is {name} and I,m {age}, My favorite language is {fav_language}\"\n",
    "template"
   ],
   "execution_count":120,
   "outputs":[
    {
     "data":{
      "text\/plain":[
       "'Hello my name is fern and I,m 25, My favorite language is R'"
      ]
     },
     "metadata":{
      
     },
     "output_type":"display_data"
    }
   ],
   "metadata":{
    "datalore":{
     "node_id":"KU14mvfbHQRqWzUdNaoH4F",
     "type":"CODE",
     "hide_input_from_viewers":true,
     "hide_output_from_viewers":true,
     "report_properties":{
      
     }
    }
   }
  },
  {
   "cell_type":"code",
   "source":[
    "#create new function concept reuseable\n",
    "def greeting(name: str) -> None:\n",
    "    print(f\"Hello {name}!\")"
   ],
   "execution_count":142,
   "outputs":[
    
   ],
   "metadata":{
    "datalore":{
     "node_id":"zVOdnGhD4a7tTjmLwWyMK1",
     "type":"CODE",
     "hide_input_from_viewers":true,
     "hide_output_from_viewers":true,
     "report_properties":{
      
     }
    }
   }
  },
  {
   "cell_type":"code",
   "source":[
    "greeting(\"Fern\")"
   ],
   "execution_count":131,
   "outputs":[
    {
     "name":"stdout",
     "text":[
      "Hello Fern!\n"
     ],
     "output_type":"stream"
    }
   ],
   "metadata":{
    "datalore":{
     "node_id":"GQ43OnzgUujGpXCGoabJ8S",
     "type":"CODE",
     "hide_input_from_viewers":true,
     "hide_output_from_viewers":true,
     "report_properties":{
      
     }
    }
   }
  },
  {
   "cell_type":"code",
   "source":[
    "def add_two_nums(a: int,b: int) -> int:\n",
    "    \"\"\"\n",
    "    input: two integer numbers\n",
    "    output: sum of two numbers\n",
    "    \"\"\"\n",
    "    return a+b"
   ],
   "execution_count":143,
   "outputs":[
    
   ],
   "metadata":{
    "datalore":{
     "node_id":"LNGaomBydW6gEXPuD6sMml",
     "type":"CODE",
     "hide_input_from_viewers":true,
     "hide_output_from_viewers":true,
     "report_properties":{
      
     }
    }
   }
  },
  {
   "cell_type":"code",
   "source":[
    "result = add_two_nums(5,10)\n",
    "print(result)"
   ],
   "execution_count":146,
   "outputs":[
    {
     "name":"stdout",
     "text":[
      "15\n"
     ],
     "output_type":"stream"
    }
   ],
   "metadata":{
    "datalore":{
     "node_id":"VxBOoSmXAWzE5PAQWNrnC3",
     "type":"CODE",
     "hide_input_from_viewers":true,
     "hide_output_from_viewers":true,
     "report_properties":{
      
     }
    }
   }
  },
  {
   "cell_type":"code",
   "source":[
    "#lambda func\n",
    "def greeting():\n",
    "    print('Hello!')\n",
    "\n",
    "greeting = lambda name: print(f\"Hello {name}\")"
   ],
   "execution_count":151,
   "outputs":[
    
   ],
   "metadata":{
    "datalore":{
     "node_id":"9jyJY9rRr2rOuiP9tvjlcz",
     "type":"CODE",
     "hide_input_from_viewers":true,
     "hide_output_from_viewers":true,
     "report_properties":{
      
     }
    }
   }
  },
  {
   "cell_type":"code",
   "source":[
    "greeting(\"Anna\")"
   ],
   "execution_count":153,
   "outputs":[
    {
     "name":"stdout",
     "text":[
      "Hello Anna\n"
     ],
     "output_type":"stream"
    }
   ],
   "metadata":{
    "datalore":{
     "node_id":"ptejhswRtUdf5pfEMLAPNK",
     "type":"CODE",
     "hide_input_from_viewers":true,
     "hide_output_from_viewers":true,
     "report_properties":{
      
     }
    }
   }
  },
  {
   "cell_type":"code",
   "source":[
    "def cube(base,pow=3):\n",
    "    return base**pow"
   ],
   "execution_count":156,
   "outputs":[
    
   ],
   "metadata":{
    "datalore":{
     "node_id":"Q567mNA4mQUugCqLTaDM6H",
     "type":"CODE",
     "hide_input_from_viewers":true,
     "hide_output_from_viewers":true,
     "report_properties":{
      
     }
    }
   }
  },
  {
   "cell_type":"code",
   "source":[
    "cube(10)"
   ],
   "execution_count":157,
   "outputs":[
    {
     "data":{
      "text\/plain":[
       "1000"
      ]
     },
     "metadata":{
      
     },
     "output_type":"display_data"
    }
   ],
   "metadata":{
    "datalore":{
     "node_id":"f8fFAV4H7sdodLPjbkqMcz",
     "type":"CODE",
     "hide_input_from_viewers":true,
     "hide_output_from_viewers":true,
     "report_properties":{
      
     }
    }
   }
  },
  {
   "cell_type":"markdown",
   "source":[
    "## Control Flow\n",
    "ควบคุมพฤติกรรมของโปรแกรม\n",
    "* IF\n",
    "* for\n",
    "* while"
   ],
   "attachments":{
    
   },
   "metadata":{
    "datalore":{
     "node_id":"R6I4DSGVWcDwmLWhuJfZjB",
     "type":"MD",
     "hide_input_from_viewers":true,
     "hide_output_from_viewers":true,
     "report_properties":{
      
     }
    }
   }
  },
  {
   "cell_type":"code",
   "source":[
    "# if\n",
    "score = int(input(\"What's exam score: \"))\n",
    "if score >= 80:\n",
    "    print(\"Passed\")\n",
    "else:\n",
    "    print(\"Failed\")"
   ],
   "execution_count":168,
   "outputs":[
    {
     "name":"stdout",
     "text":[
      "What's exam score:  10\n",
      "Failed\n"
     ],
     "output_type":"stream"
    }
   ],
   "metadata":{
    "datalore":{
     "node_id":"2X1pi0dA0t4LJyKDJbp02u",
     "type":"CODE",
     "hide_input_from_viewers":true,
     "hide_output_from_viewers":true,
     "report_properties":{
      
     }
    }
   }
  },
  {
   "cell_type":"code",
   "source":[
    "#get input form a user\n",
    "#score = int(input(\"What's exam score: \"))"
   ],
   "execution_count":167,
   "outputs":[
    
   ],
   "metadata":{
    "datalore":{
     "node_id":"8iW18bTSTa7g6JkZM9M5NK",
     "type":"CODE",
     "hide_input_from_viewers":true,
     "hide_output_from_viewers":true,
     "report_properties":{
      
     }
    }
   }
  },
  {
   "cell_type":"code",
   "source":[
    "def grading(score: int):\n",
    "    if score >= 80:\n",
    "        print(\"Distinction\")\n",
    "    elif score >= 50:\n",
    "        print(\"Passed\")\n",
    "    else:\n",
    "        print(\"Failed\")"
   ],
   "execution_count":3,
   "outputs":[
    
   ],
   "metadata":{
    "datalore":{
     "node_id":"hI7CWko5U2615CqAvcDGCS",
     "type":"CODE",
     "hide_input_from_viewers":true,
     "hide_output_from_viewers":true,
     "report_properties":{
      
     }
    }
   }
  },
  {
   "cell_type":"code",
   "source":[
    "grading(55)"
   ],
   "execution_count":5,
   "outputs":[
    {
     "name":"stdout",
     "text":[
      "Passed\n"
     ],
     "output_type":"stream"
    }
   ],
   "metadata":{
    "datalore":{
     "node_id":"7TCcjXuy2cqu8tGbj5WrKH",
     "type":"CODE",
     "hide_input_from_viewers":true,
     "hide_output_from_viewers":true,
     "report_properties":{
      
     }
    }
   }
  },
  {
   "cell_type":"code",
   "source":[
    "#for loop\n",
    "shopping_list = ['egg','milk','bread']\n",
    "new_list = [] #empty list\n",
    "for i in shopping_list:\n",
    "    #print(f\"I have to buy {i.upper()}\")\n",
    "    new_list.append(i.upper())"
   ],
   "execution_count":8,
   "outputs":[
    
   ],
   "metadata":{
    "datalore":{
     "node_id":"jh8wYs7STiGqXDWe58fJbA",
     "type":"CODE",
     "hide_input_from_viewers":true,
     "hide_output_from_viewers":true,
     "report_properties":{
      
     }
    }
   }
  },
  {
   "cell_type":"code",
   "source":[
    "new_list"
   ],
   "execution_count":9,
   "outputs":[
    {
     "data":{
      "text\/plain":[
       "['EGG', 'MILK', 'BREAD']"
      ]
     },
     "metadata":{
      
     },
     "output_type":"display_data"
    }
   ],
   "metadata":{
    "datalore":{
     "node_id":"5xn3aXVcNfTuglZpefq9tv",
     "type":"CODE",
     "hide_input_from_viewers":true,
     "hide_output_from_viewers":true,
     "report_properties":{
      
     }
    }
   }
  },
  {
   "cell_type":"code",
   "source":[
    "#list comprehension\n",
    "new_list = [i.upper() for i in shopping_list]"
   ],
   "execution_count":10,
   "outputs":[
    
   ],
   "metadata":{
    "datalore":{
     "node_id":"lQ3m0AvHRNrEO5Y37wzIxr",
     "type":"CODE",
     "hide_input_from_viewers":true,
     "hide_output_from_viewers":true,
     "report_properties":{
      
     }
    }
   }
  },
  {
   "cell_type":"code",
   "source":[
    "new_list"
   ],
   "execution_count":11,
   "outputs":[
    {
     "data":{
      "text\/plain":[
       "['EGG', 'MILK', 'BREAD']"
      ]
     },
     "metadata":{
      
     },
     "output_type":"display_data"
    }
   ],
   "metadata":{
    "datalore":{
     "node_id":"GmAIkd99W9O8C04HXvGWvt",
     "type":"CODE",
     "hide_input_from_viewers":true,
     "hide_output_from_viewers":true,
     "report_properties":{
      
     }
    }
   }
  },
  {
   "cell_type":"code",
   "source":[
    "# if-else + for loop\n",
    "scores = [95,90,75,79,82]\n",
    "grades = []\n",
    "for score in scores:\n",
    "    if score >= 80:\n",
    "        grades.append(\"Passed\")\n",
    "    else:\n",
    "        grades.append(\"Failed\")\n",
    "print(grades)"
   ],
   "execution_count":13,
   "outputs":[
    {
     "name":"stdout",
     "text":[
      "['Passed', 'Passed', 'Failed', 'Failed', 'Passed']\n"
     ],
     "output_type":"stream"
    }
   ],
   "metadata":{
    "datalore":{
     "node_id":"5oDUZRFUMQYHWmTQqqnpDl",
     "type":"CODE",
     "hide_input_from_viewers":true,
     "hide_output_from_viewers":true,
     "report_properties":{
      
     }
    }
   }
  },
  {
   "cell_type":"code",
   "source":[
    "# while loop while true do something\n",
    "count = 0\n",
    "while count<5:\n",
    "    print(\"hello:\",count)\n",
    "    count+=1"
   ],
   "execution_count":14,
   "outputs":[
    {
     "name":"stdout",
     "text":[
      "hello: 0\n",
      "hello: 1\n",
      "hello: 2\n",
      "hello: 3\n",
      "hello: 4\n"
     ],
     "output_type":"stream"
    }
   ],
   "metadata":{
    "datalore":{
     "node_id":"sUjPFeuTVAGqfSpLrlNaOT",
     "type":"CODE",
     "hide_input_from_viewers":true,
     "hide_output_from_viewers":true,
     "report_properties":{
      
     }
    }
   }
  },
  {
   "cell_type":"code",
   "source":[
    "age = 24\n",
    "age+=1\n",
    "age+=1\n",
    "age\/=2\n",
    "age*=3\n",
    "age-=20\n",
    "print(age)"
   ],
   "execution_count":15,
   "outputs":[
    {
     "name":"stdout",
     "text":[
      "19.0\n"
     ],
     "output_type":"stream"
    }
   ],
   "metadata":{
    "datalore":{
     "node_id":"OpXKTRu7msoj9k0pfmmN43",
     "type":"CODE",
     "hide_input_from_viewers":true,
     "hide_output_from_viewers":true,
     "report_properties":{
      
     }
    }
   }
  },
  {
   "cell_type":"code",
   "source":[
    "print(True and True)\n",
    "print(True and False)\n",
    "print(False and True)\n",
    "print(False and False)"
   ],
   "execution_count":17,
   "outputs":[
    {
     "name":"stdout",
     "text":[
      "True\n",
      "False\n",
      "False\n",
      "False\n"
     ],
     "output_type":"stream"
    }
   ],
   "metadata":{
    "datalore":{
     "node_id":"GSekNuHdYC7LxIPunOEWFZ",
     "type":"CODE",
     "hide_input_from_viewers":true,
     "hide_output_from_viewers":true,
     "report_properties":{
      
     }
    }
   }
  },
  {
   "cell_type":"code",
   "source":[
    "#multiple if-else\n",
    "weather = 'sunny'\n",
    "weekday = False\n",
    "if weather == 'sunny' and weekday:\n",
    "    print(\"Go to starbucks\")\n",
    "else:\n",
    "    print(\"Stay home \")"
   ],
   "execution_count":19,
   "outputs":[
    {
     "name":"stdout",
     "text":[
      "Stay home \n"
     ],
     "output_type":"stream"
    }
   ],
   "metadata":{
    "datalore":{
     "node_id":"vaeqNguxpwPz6IhPB4tvwD",
     "type":"CODE",
     "hide_input_from_viewers":true,
     "hide_output_from_viewers":true,
     "report_properties":{
      
     }
    }
   }
  },
  {
   "cell_type":"code",
   "source":[
    "#while loop\n",
    "count=0\n",
    "while True:\n",
    "    print(count)\n",
    "    count+=1\n",
    "    if count == 10:\n",
    "        print(\"Program Ends.\")\n",
    "        break"
   ],
   "execution_count":20,
   "outputs":[
    {
     "name":"stdout",
     "text":[
      "0\n",
      "1\n",
      "2\n",
      "3\n",
      "4\n",
      "5\n",
      "6\n",
      "7\n",
      "8\n",
      "9\n",
      "Program Ends.\n"
     ],
     "output_type":"stream"
    }
   ],
   "metadata":{
    "datalore":{
     "node_id":"OR28fLEh1OAZxEfrjhVgRR",
     "type":"CODE",
     "hide_input_from_viewers":true,
     "hide_output_from_viewers":true,
     "report_properties":{
      
     }
    }
   }
  },
  {
   "cell_type":"code",
   "source":[
    "def breaker(n):\n",
    "    count = 0\n",
    "    while True:\n",
    "        print(count)\n",
    "        count+=1\n",
    "        if count == n:\n",
    "            print(\"Program Ends.\")\n",
    "            break"
   ],
   "execution_count":21,
   "outputs":[
    
   ],
   "metadata":{
    "datalore":{
     "node_id":"NPbP40L6ASyCcc5BUyafnv",
     "type":"CODE",
     "hide_input_from_viewers":true,
     "hide_output_from_viewers":true,
     "report_properties":{
      
     }
    }
   }
  },
  {
   "cell_type":"code",
   "source":[
    "breaker(3)"
   ],
   "execution_count":22,
   "outputs":[
    {
     "name":"stdout",
     "text":[
      "0\n",
      "1\n",
      "2\n",
      "Program Ends.\n"
     ],
     "output_type":"stream"
    }
   ],
   "metadata":{
    "datalore":{
     "node_id":"brmZCd6agZSZDjx6mOFvED",
     "type":"CODE",
     "hide_input_from_viewers":true,
     "hide_output_from_viewers":true,
     "report_properties":{
      
     }
    }
   }
  },
  {
   "cell_type":"markdown",
   "source":[
    "## OOP\n",
    "Object Oriented Programming\n",
    "Cookie Cutter🍪"
   ],
   "attachments":{
    
   },
   "metadata":{
    "datalore":{
     "node_id":"b6jLxQx5rkUbEO961EOmyQ",
     "type":"MD",
     "hide_input_from_viewers":true,
     "hide_output_from_viewers":true,
     "report_properties":{
      
     }
    }
   }
  },
  {
   "cell_type":"code",
   "source":[
    "#สร้างแม่พิมพ์ แล้ววปั๊มน้องหมาขึ้นมาใหม่\n",
    "class Dog:\n",
    "    def __init__(self, d_name, d_age, color): #special method\n",
    "        self.d_name = d_name\n",
    "        self.d_age = d_age\n",
    "        self.color = color\n",
    "    def hello(self):\n",
    "        print(f\"Hi my name is {self.d_name}!\")\n",
    "    def get_older(self):\n",
    "        self.d_age+=1\n",
    "        print(f\"I'm getting older one year. I'm now {self.d_age}\")"
   ],
   "execution_count":66,
   "outputs":[
    
   ],
   "metadata":{
    "datalore":{
     "node_id":"vaLbhEklyMYPCASwadsWyY",
     "type":"CODE",
     "hide_input_from_viewers":true,
     "hide_output_from_viewers":true,
     "report_properties":{
      
     }
    }
   }
  },
  {
   "cell_type":"code",
   "source":[
    "dog1 = Dog(\"milo\",2,'black')\n",
    "dog2 = Dog(\"rambo\", 3,'golden')\n",
    "dog1.hello()\n",
    "dog2.hello()\n",
    "dog1.get_older()\n",
    "dog2.get_older()"
   ],
   "execution_count":67,
   "outputs":[
    {
     "name":"stdout",
     "text":[
      "Hi my name is milo!\n",
      "Hi my name is rambo!\n",
      "I'm getting older one year. I'm now 3\n",
      "I'm getting older one year. I'm now 4\n"
     ],
     "output_type":"stream"
    }
   ],
   "metadata":{
    "datalore":{
     "node_id":"s3NezuMDL4UFkzO41kUgXI",
     "type":"CODE",
     "hide_input_from_viewers":true,
     "hide_output_from_viewers":true,
     "report_properties":{
      
     }
    }
   }
  },
  {
   "cell_type":"code",
   "source":[
    "print(dog1.d_name,dog1.d_age,dog1.color)"
   ],
   "execution_count":69,
   "outputs":[
    {
     "name":"stdout",
     "text":[
      "milo 3 black\n"
     ],
     "output_type":"stream"
    }
   ],
   "metadata":{
    "datalore":{
     "node_id":"VZkNmyCbl53vqOSMmOJea0",
     "type":"CODE",
     "hide_input_from_viewers":true,
     "hide_output_from_viewers":true,
     "report_properties":{
      
     }
    }
   }
  },
  {
   "cell_type":"code",
   "source":[
    "class ATM:\n",
    "    # double underscore => dunder\n",
    "    def __init__(self, names, balance):\n",
    "        self.names = names\n",
    "        self.balance = balance \n",
    "\n",
    "    def check_balance(self):\n",
    "        message = f\"Account: {self.names}, Balance: {self.balance}\"\n",
    "        print(message)\n",
    "    \n",
    "    def deposit(self, money):\n",
    "        self.balance += money \n",
    "        print(f\"New Balance: {self.balance}\")\n",
    "        print(\"Deposit successfully.\")\n",
    "    \n",
    "    def change_name(self, new_acc_name):\n",
    "        self.names = new_acc_name \n",
    "        print(f\"New Name: {self.names}\")\n",
    "        print(\"Your account name has been changed.\")"
   ],
   "execution_count":60,
   "outputs":[
    
   ],
   "metadata":{
    "datalore":{
     "node_id":"K6WncfmJprTh3uakH4Afda",
     "type":"CODE",
     "hide_input_from_viewers":true,
     "hide_output_from_viewers":true,
     "report_properties":{
      
     }
    }
   }
  },
  {
   "cell_type":"code",
   "source":[
    "scb = ATM(\"fern\",500)\n",
    "\n",
    "scb.check_balance()\n",
    "scb.deposit(900)\n",
    "\n",
    "scb.change_name('Sirinthip.nga')"
   ],
   "execution_count":63,
   "outputs":[
    {
     "name":"stdout",
     "text":[
      "Account: fern, Balance: 500\n",
      "New Balance: 1400\n",
      "Deposit successfully.\n",
      "New Name: Sirinthip.nga\n",
      "Your account name has been changed.\n"
     ],
     "output_type":"stream"
    }
   ],
   "metadata":{
    "datalore":{
     "node_id":"emJ27RLUehzNfIDCoOZB2g",
     "type":"CODE",
     "hide_input_from_viewers":true,
     "hide_output_from_viewers":true,
     "report_properties":{
      
     }
    }
   }
  },
  {
   "cell_type":"code",
   "source":[
    "ttb = ATM(\"john\",15000)"
   ],
   "execution_count":64,
   "outputs":[
    
   ],
   "metadata":{
    "datalore":{
     "node_id":"nodDY3LZCbUC09HQ3K0pHr",
     "type":"CODE",
     "hide_input_from_viewers":true,
     "hide_output_from_viewers":true,
     "report_properties":{
      
     }
    }
   }
  },
  {
   "cell_type":"code",
   "source":[
    "ttb.deposit(5000)"
   ],
   "execution_count":65,
   "outputs":[
    {
     "name":"stdout",
     "text":[
      "New Balance: 20000\n",
      "Deposit successfully.\n"
     ],
     "output_type":"stream"
    }
   ],
   "metadata":{
    "datalore":{
     "node_id":"dNNrOpZUR3Hlej4xTTUSYM",
     "type":"CODE",
     "hide_input_from_viewers":true,
     "hide_output_from_viewers":true,
     "report_properties":{
      
     }
    }
   }
  },
  {
   "cell_type":"code",
   "source":[
    "#Homework 1 PAO YING CHUB PYTHON use input()\n",
    "#ATM Class => at least 5 methods"
   ],
   "execution_count":null,
   "outputs":[
    
   ],
   "metadata":{
    "datalore":{
     "node_id":"6r2ENbR1CNKFuhT4XovAA0",
     "type":"CODE",
     "hide_input_from_viewers":true,
     "hide_output_from_viewers":true,
     "report_properties":{
      
     }
    }
   }
  },
  {
   "cell_type":"code",
   "source":[
    
   ],
   "execution_count":null,
   "outputs":[
    
   ],
   "metadata":{
    "datalore":{
     "node_id":"UbiWcRRaRVdoujPdqDKcbg",
     "type":"CODE",
     "hide_input_from_viewers":true,
     "hide_output_from_viewers":true,
     "report_properties":{
      
     }
    }
   }
  },
  {
   "cell_type":"markdown",
   "source":[
    "# Homework- Intro to Python"
   ],
   "attachments":{
    
   },
   "metadata":{
    "datalore":{
     "node_id":"Homework- Intro to Python",
     "type":"MD",
     "hide_input_from_viewers":false,
     "hide_output_from_viewers":false,
     "sheet_delimiter":true
    }
   }
  },
  {
   "cell_type":"markdown",
   "source":[
    "# Intro to Python\n",
    "Sirinthip Ngamchaluay (Fern)"
   ],
   "attachments":{
    
   },
   "metadata":{
    "datalore":{
     "node_id":"GDUweIUvgDOlnziSZNkp3l",
     "type":"MD",
     "hide_input_from_viewers":true,
     "hide_output_from_viewers":false,
     "report_properties":{
      "x":0,
      "y":0,
      "height":5,
      "splitHeight":2
     }
    }
   }
  },
  {
   "cell_type":"markdown",
   "source":[
    "Homework 1 **PAO YING CHUB**\n",
    "\n",
    "Homework 2 **`(OOP)` ATM Class** at least 5 methods"
   ],
   "attachments":{
    
   },
   "metadata":{
    "datalore":{
     "node_id":"b49kvWmKFpz4DHnVXtCOPE",
     "type":"MD",
     "hide_input_from_viewers":true,
     "hide_output_from_viewers":false,
     "report_properties":{
      "x":0,
      "y":5,
      "height":4,
      "splitHeight":2
     }
    }
   }
  },
  {
   "cell_type":"markdown",
   "source":[
    "## Pao Ying Chub (Rock Paper Scissers) ✊🤞✋"
   ],
   "attachments":{
    
   },
   "metadata":{
    "datalore":{
     "node_id":"1oQcOkhLPtGFrfxQGbIu2W",
     "type":"MD",
     "hide_input_from_viewers":true,
     "hide_output_from_viewers":false,
     "report_properties":{
      "x":0,
      "y":9,
      "height":3,
      "splitHeight":2
     }
    }
   }
  },
  {
   "cell_type":"code",
   "source":[
    "import random\n",
    "choice = [0,1,2]\n",
    "user_win = 0\n",
    "bot_win = 0\n",
    "tie = 0\n",
    "count = 0\n",
    "while count >=0:\n",
    "    user_action = int(input(\"User choose 0,1,2 (rock[0], paper[1], scissors[2]): \"))\n",
    "    if user_action not in choice:\n",
    "        print(\"Please enter 0,1,2 again!\")\n",
    "    else:\n",
    "        bot_action = random.choice(choice)\n",
    "        print(f\"Bot choose 0,1,2 (rock[0], paper[1], scissors[2]): {bot_action}\")\n",
    "        if user_action == bot_action:\n",
    "            print(\"Tie\")\n",
    "            tie+=1\n",
    "        elif (user_action==0 and bot_action==2) or (user_action==1 and bot_action==0) or (user_action==2 and bot_action==1):\n",
    "            print(\"User win!\")\n",
    "            user_win+=1\n",
    "        else:\n",
    "            print(\"Bot win!\")\n",
    "            bot_win+=1\n",
    "        end_game = input(\"Do you want to play again? (y\/n): \").lower()\n",
    "        count+=1\n",
    "        if end_game=='n':break\n",
    "print(f\"Number of Rounds Played: {count}\")\n",
    "print(f\"User wins: {user_win}\")\n",
    "print(f\"Bot wins: {bot_win}\")\n",
    "print(f\"Tie: {tie}\")\n",
    "if user_win+tie > bot_win+tie:result='User win!'\n",
    "elif bot_win+tie > user_win+tie:result='Bot win!'\n",
    "else:'Tie'\n",
    "print(f\"Summarise the result of Rock Paper Scissers: {result}\")"
   ],
   "execution_count":36,
   "outputs":[
    {
     "name":"stdout",
     "text":[
      "User choose 0,1,2 (rock[0], paper[1], scissors[2]):  1\n",
      "Bot choose 0,1,2 (rock[0], paper[1], scissors[2]): 1\n",
      "Tie\n",
      "Do you want to play again? (y\/n):  y\n",
      "User choose 0,1,2 (rock[0], paper[1], scissors[2]):  1\n",
      "Bot choose 0,1,2 (rock[0], paper[1], scissors[2]): 0\n",
      "User win!\n",
      "Do you want to play again? (y\/n):  y\n",
      "User choose 0,1,2 (rock[0], paper[1], scissors[2]):  2\n",
      "Bot choose 0,1,2 (rock[0], paper[1], scissors[2]): 2\n",
      "Tie\n",
      "Do you want to play again? (y\/n):  Y\n",
      "User choose 0,1,2 (rock[0], paper[1], scissors[2]):  0\n",
      "Bot choose 0,1,2 (rock[0], paper[1], scissors[2]): 2\n",
      "User win!\n",
      "Do you want to play again? (y\/n):  y\n",
      "User choose 0,1,2 (rock[0], paper[1], scissors[2]):  1\n",
      "Bot choose 0,1,2 (rock[0], paper[1], scissors[2]): 1\n",
      "Tie\n",
      "Do you want to play again? (y\/n):  N\n",
      "Number of Rounds Played: 5\n",
      "User wins: 2\n",
      "Bot wins: 0\n",
      "Tie: 3\n",
      "Summarise the result of Rock Paper Scissers: User win!\n"
     ],
     "output_type":"stream"
    }
   ],
   "metadata":{
    "datalore":{
     "node_id":"Jga2ufKaGCiDr5gzUgD1yw",
     "type":"CODE",
     "hide_input_from_viewers":false,
     "hide_output_from_viewers":false,
     "report_properties":{
      "x":0,
      "y":12,
      "width":1,
      "height":31,
      "splitHeight":18
     }
    }
   }
  },
  {
   "cell_type":"markdown",
   "source":[
    "## `(OOP)` ATM Class *(at least 5 methods)*"
   ],
   "attachments":{
    
   },
   "metadata":{
    "datalore":{
     "node_id":"UMoPeqIeht5pQMTmNCZKBN",
     "type":"MD",
     "hide_input_from_viewers":true,
     "hide_output_from_viewers":false,
     "report_properties":{
      "x":0,
      "y":43,
      "height":3,
      "splitHeight":2
     }
    }
   }
  },
  {
   "cell_type":"code",
   "source":[
    "class ATM:\n",
    "    def __init__(self, names, balance: float, password: str):\n",
    "        self.names = names\n",
    "        self.balance = balance\n",
    "        self.password = password\n",
    "        \n",
    "    def check_balance(self):\n",
    "        message = f\"Account: {self.names}, Balance: {self.balance} THB.\"\n",
    "        print(message,\"\\n\")\n",
    "    def deposit(self, money: float):\n",
    "        self.balance += money\n",
    "        print(f\"Deposit Amount of {money} THB.\")\n",
    "        print(f\"New Balance: {self.balance} THB.\")\n",
    "        print(\"Deposit successfully.\\n\")\n",
    "    def withdraw(self,money: float):\n",
    "        self.balance-=money\n",
    "        print(f\"Withdrawal of {money} THB.\")\n",
    "        print(f\"New Balance: {self.balance} THB.\")\n",
    "        print(\"Withdraw successfully.\\n\")\n",
    "    def transfer(self,money: float,payee: str):\n",
    "        self.balance-=money\n",
    "        print(f\"Transter to {payee}, {money} THB.\")\n",
    "        print(f\"New Balance: {self.balance} THB.\\n\")\n",
    "    def paybill(self,money: float,payee: str,fee: float):\n",
    "        self.balance=self.balance-money-fee\n",
    "        print(f\"Paybill to {payee}, {money+fee} THB.\")\n",
    "        print(f\"New Balance: {self.balance} THB.\\n\")\n",
    "    def change_name(self, new_acc_name: str):\n",
    "        self.names = new_acc_name\n",
    "        print(f\"New Name: {self.names}\")\n",
    "        print(\"Your account name has been changed.\\n\")\n",
    "    def change_password(self, new_password: str):\n",
    "        self.password = new_password\n",
    "        print(f\"New Password: {self.password}\\nYour password has been changed.\")\n"
   ],
   "execution_count":21,
   "outputs":[
    
   ],
   "metadata":{
    "datalore":{
     "node_id":"JO1LMbzHhp5KCAGOrOzaKz",
     "type":"CODE",
     "hide_input_from_viewers":false,
     "hide_output_from_viewers":true,
     "report_properties":{
      "x":0,
      "y":46,
      "width":1,
      "height":19,
      "splitHeight":10
     }
    }
   }
  },
  {
   "cell_type":"code",
   "source":[
    "#Set constant value\n",
    "customers = []\n",
    "deposit_value = 0\n",
    "withdraw_value = 0\n",
    "transfer_value = 0\n",
    "paybill_value = 0"
   ],
   "execution_count":34,
   "outputs":[
    
   ],
   "metadata":{
    "datalore":{
     "node_id":"Qdu48m6HRI8wI25W6Psgyc",
     "type":"CODE",
     "hide_input_from_viewers":false,
     "hide_output_from_viewers":true,
     "report_properties":{
      "x":0,
      "y":65,
      "width":1,
      "height":5,
      "splitHeight":5
     }
    }
   }
  },
  {
   "cell_type":"code",
   "source":[
    "#Input data\n",
    "customers.append(input(\"Your name: \"))\n",
    "customers.append(float(input(\"Balance: \")))\n",
    "customers.append(input(\"Your password: \"))\n",
    "bbl = ATM(customers[0],customers[1],customers[2])\n",
    "\n",
    "#Check Balance\n",
    "bbl.check_balance()\n",
    "\n",
    "#Deposit\n",
    "dep = input(\"Do you want to deposit?(y\/n): \").lower()\n",
    "if dep=='y':\n",
    "    deposit_value = float(input(\"Deposit Amount: \"))\n",
    "    bbl.deposit(deposit_value)\n",
    "else:pass\n",
    "\n",
    "#Withdraw\n",
    "withdr = input(\"Do you want to withdraw?(y\/n): \").lower()\n",
    "if withdr=='y':\n",
    "    withdraw_value = float(input(\"Withdraw Amount: \"))\n",
    "    if withdraw_value<=100:\n",
    "        print(\"Minimum withdraw is 100 THB., Please Try again\")\n",
    "        withdraw_value = float(input(\"Withdraw Amount: \"))\n",
    "    if withdraw_value > (customers[1]+deposit_value):\n",
    "        print(\"Balance is not enough, please Try again\")\n",
    "        withdraw_value = float(input(\"Withdraw Amount: \"))    \n",
    "    else:bbl.withdraw(withdraw_value)\n",
    "else:pass\n",
    "\n",
    "#Transfer\n",
    "transf = input(\"Do you want to transfer?(y\/n): \").lower()\n",
    "if transf=='y':\n",
    "    transfer_value = float(input(\"Transfer Amount: \"))\n",
    "    payee_name = (input(\"Transfer to: \"))\n",
    "    if transfer_value > (customers[1]+deposit_value-withdraw_value):\n",
    "        print(\"Balance is not enough, please Try again\")\n",
    "        transfer_value = float(input(\"Transfer Amount: \"))\n",
    "    else:bbl.transfer(transfer_value,payee_name)\n",
    "else:pass\n",
    "\n",
    "#Paybill\n",
    "paybill = input(\"Do you want to paybill?(y\/n): \").lower()\n",
    "if paybill=='y':\n",
    "    paybill_value = float(input(\"Paybill Amount: \"))\n",
    "    payee_bill_name = (input(\"Payee: \"))\n",
    "    fee_value = float(input(\"Fee Amount: \"))\n",
    "    if paybill_value > (customers[1]+deposit_value-withdraw_value-transfer_value):print(\"Balance is not enough, please Try again later.\")\n",
    "    else:bbl.paybill(paybill_value,payee_bill_name,fee_value)\n",
    "else:pass\n",
    "\n",
    "#New Name\n",
    "changename = input(\"Do you want to change your name?(y\/n): \").lower()\n",
    "if changename=='y':bbl.change_name(input(\"Do you want to change your name as: \"))\n",
    "else:pass\n",
    "\n",
    "#New password\n",
    "changepw = input(\"Do you want to change your password?(y\/n): \").lower()\n",
    "if changepw=='y':\n",
    "    len_pw = 6\n",
    "    while len_pw == 6:\n",
    "        new_pw=input(\"Please enter 6 digits[0-9]: \")\n",
    "        if len(new_pw)==len_pw:\n",
    "            bbl.change_password(new_pw)\n",
    "            break\n",
    "        else:\n",
    "            print(\"Invalid password!\")"
   ],
   "execution_count":35,
   "outputs":[
    {
     "name":"stdout",
     "text":[
      "Your name:  Fern\n",
      "Balance:  5000\n",
      "Your password:  157428\n",
      "Account: Fern, Balance: 5000.0 THB. \n",
      "\n",
      "Do you want to deposit?(y\/n):  y\n",
      "Deposit Amount:  1000\n",
      "Deposit Amount of 1000.0 THB.\n",
      "New Balance: 6000.0 THB.\n",
      "Deposit successfully.\n",
      "\n",
      "Do you want to withdraw?(y\/n):  n\n",
      "Do you want to transfer?(y\/n):  Y\n",
      "Transfer Amount:  3000\n",
      "Transfer to:  My mom\n",
      "Transter to My mom, 3000.0 THB.\n",
      "New Balance: 3000.0 THB.\n",
      "\n",
      "Do you want to paybill?(y\/n):  y\n",
      "Paybill Amount:  800\n",
      "Payee:  MEA\n",
      "Fee Amount:  10\n",
      "Paybill to MEA, 810.0 THB.\n",
      "New Balance: 2190.0 THB.\n",
      "\n",
      "Do you want to change your name?(y\/n):  Y\n",
      "Do you want to change your name as:  Sirinthip\n",
      "New Name: Sirinthip\n",
      "Your account name has been changed.\n",
      "\n",
      "Do you want to change your password?(y\/n):  159753\n"
     ],
     "output_type":"stream"
    }
   ],
   "metadata":{
    "datalore":{
     "node_id":"92xzZSVqOptX91asSCuuFD",
     "type":"CODE",
     "hide_input_from_viewers":false,
     "hide_output_from_viewers":false,
     "report_properties":{
      "x":0,
      "y":70,
      "width":1,
      "height":48,
      "splitHeight":33
     }
    }
   }
  },
  {
   "cell_type":"code",
   "source":[
    
   ],
   "execution_count":null,
   "outputs":[
    
   ],
   "metadata":{
    "datalore":{
     "node_id":"Z2qaeLnBp6FjDNY8HYVRLw",
     "type":"CODE",
     "hide_input_from_viewers":true,
     "hide_output_from_viewers":true
    }
   }
  }
 ],
 "metadata":{
  "kernelspec":{
   "display_name":"Python",
   "language":"python",
   "name":"python"
  },
  "datalore":{
   "version":1,
   "computation_mode":"JUPYTER",
   "package_manager":"pip",
   "base_environment":"default",
   "packages":[
    
   ]
  }
 },
 "nbformat":4,
 "nbformat_minor":4
}